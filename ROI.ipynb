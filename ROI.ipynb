{
 "cells": [
  {
   "cell_type": "markdown",
   "id": "4929cf7e",
   "metadata": {},
   "source": [
    "## ЦЕЛЬ\n",
    "Нам необходимо рассчитать эффективность работы каналов привлечения трафика. И проверить можем ли мы вложиться в один самый эффективный канал и отказаться от других. "
   ]
  },
  {
   "cell_type": "markdown",
   "id": "f2ab13bc",
   "metadata": {},
   "source": [
    "Что нужно сделать\n",
    "1. Посчитайте эффективность каналов трафика. Для этого рассчитайте ROI для каждого канала. ROI — это соотношение доходов к расходам.\n",
    "\n",
    "2. Отсортируйте каналы по убыванию ROI и изобразите их на гистограмме.\n",
    "\n",
    "3. Ответьте на вопросы:\n",
    "\n",
    "- Какой канал принёс больше всего денег?\n",
    "- Какой канал самый эффективный? \n",
    "- В пункте 1 и 2 речь об одном и том же канале или о разных? Если разные это разные каналы, укажите, почему так может быть?\n",
    "- Что может произойти, если вложить все деньги в один самый эффективный канал?\n"
   ]
  },
  {
   "cell_type": "code",
   "execution_count": 109,
   "id": "dc92a54e",
   "metadata": {},
   "outputs": [],
   "source": [
    "# импортируем библиотеки\n",
    "import numpy as np\n",
    "import pandas as pd\n",
    "import matplotlib.pyplot as plt\n",
    "import seaborn as sns"
   ]
  },
  {
   "cell_type": "code",
   "execution_count": 64,
   "id": "4170eba9",
   "metadata": {},
   "outputs": [
    {
     "data": {
      "text/html": [
       "<div>\n",
       "<style scoped>\n",
       "    .dataframe tbody tr th:only-of-type {\n",
       "        vertical-align: middle;\n",
       "    }\n",
       "\n",
       "    .dataframe tbody tr th {\n",
       "        vertical-align: top;\n",
       "    }\n",
       "\n",
       "    .dataframe thead th {\n",
       "        text-align: right;\n",
       "    }\n",
       "</style>\n",
       "<table border=\"1\" class=\"dataframe\">\n",
       "  <thead>\n",
       "    <tr style=\"text-align: right;\">\n",
       "      <th></th>\n",
       "      <th>userId</th>\n",
       "      <th>date</th>\n",
       "      <th>trafficSource</th>\n",
       "      <th>cost</th>\n",
       "      <th>value</th>\n",
       "    </tr>\n",
       "  </thead>\n",
       "  <tbody>\n",
       "    <tr>\n",
       "      <th>0</th>\n",
       "      <td>user_9996</td>\n",
       "      <td>2020-01-10</td>\n",
       "      <td>facebook / video</td>\n",
       "      <td>10.25</td>\n",
       "      <td>157.5</td>\n",
       "    </tr>\n",
       "    <tr>\n",
       "      <th>1</th>\n",
       "      <td>user_9995</td>\n",
       "      <td>2020-01-03</td>\n",
       "      <td>telegram / posts</td>\n",
       "      <td>15.75</td>\n",
       "      <td>0.0</td>\n",
       "    </tr>\n",
       "    <tr>\n",
       "      <th>2</th>\n",
       "      <td>user_9995</td>\n",
       "      <td>2020-01-19</td>\n",
       "      <td>yandex / cpc</td>\n",
       "      <td>8.50</td>\n",
       "      <td>0.0</td>\n",
       "    </tr>\n",
       "    <tr>\n",
       "      <th>3</th>\n",
       "      <td>user_9992</td>\n",
       "      <td>2020-01-02</td>\n",
       "      <td>google / cpc</td>\n",
       "      <td>8.25</td>\n",
       "      <td>0.0</td>\n",
       "    </tr>\n",
       "    <tr>\n",
       "      <th>4</th>\n",
       "      <td>user_999</td>\n",
       "      <td>2020-01-01</td>\n",
       "      <td>facebook / video</td>\n",
       "      <td>10.25</td>\n",
       "      <td>0.0</td>\n",
       "    </tr>\n",
       "  </tbody>\n",
       "</table>\n",
       "</div>"
      ],
      "text/plain": [
       "      userId       date     trafficSource   cost  value\n",
       "0  user_9996 2020-01-10  facebook / video  10.25  157.5\n",
       "1  user_9995 2020-01-03  telegram / posts  15.75    0.0\n",
       "2  user_9995 2020-01-19      yandex / cpc   8.50    0.0\n",
       "3  user_9992 2020-01-02      google / cpc   8.25    0.0\n",
       "4   user_999 2020-01-01  facebook / video  10.25    0.0"
      ]
     },
     "execution_count": 64,
     "metadata": {},
     "output_type": "execute_result"
    }
   ],
   "source": [
    "# загружаем датафрейм\n",
    "df_add = pd.read_csv('tasks - initial_data.csv'\n",
    "                     , parse_dates=['date']\n",
    "                     , decimal = ',')\n",
    "df_add.head()"
   ]
  },
  {
   "cell_type": "code",
   "execution_count": 65,
   "id": "e0f621ff",
   "metadata": {},
   "outputs": [
    {
     "name": "stdout",
     "output_type": "stream",
     "text": [
      "<class 'pandas.core.frame.DataFrame'>\n",
      "RangeIndex: 10000 entries, 0 to 9999\n",
      "Data columns (total 5 columns):\n",
      " #   Column         Non-Null Count  Dtype         \n",
      "---  ------         --------------  -----         \n",
      " 0   userId         10000 non-null  object        \n",
      " 1   date           10000 non-null  datetime64[ns]\n",
      " 2   trafficSource  10000 non-null  object        \n",
      " 3   cost           10000 non-null  float64       \n",
      " 4   value          10000 non-null  float64       \n",
      "dtypes: datetime64[ns](1), float64(2), object(2)\n",
      "memory usage: 390.8+ KB\n"
     ]
    }
   ],
   "source": [
    "df_add.info()"
   ]
  },
  {
   "cell_type": "code",
   "execution_count": 131,
   "id": "c0ccdb7f",
   "metadata": {},
   "outputs": [],
   "source": [
    "# расчитываем ROI \n",
    "df_add_by_chan = df_add.groupby('trafficSource').agg(sum_cost=('cost', sum)\n",
    "                                                    , sum_value=('value', sum))\n",
    "\n",
    "df_add_by_chan['ROI'] = df_add_by_chan['sum_value'] / df_add_by_chan['sum_cost'] * 100\n",
    "df_add_by_chan['sum_value'] = df_add_by_chan['sum_value'] / 1000\n",
    "df_add_by_chan.sort_values(by='ROI', ascending = False, inplace=True, )"
   ]
  },
  {
   "cell_type": "code",
   "execution_count": 132,
   "id": "3b3f12d4",
   "metadata": {},
   "outputs": [
    {
     "data": {
      "text/html": [
       "<div>\n",
       "<style scoped>\n",
       "    .dataframe tbody tr th:only-of-type {\n",
       "        vertical-align: middle;\n",
       "    }\n",
       "\n",
       "    .dataframe tbody tr th {\n",
       "        vertical-align: top;\n",
       "    }\n",
       "\n",
       "    .dataframe thead th {\n",
       "        text-align: right;\n",
       "    }\n",
       "</style>\n",
       "<table border=\"1\" class=\"dataframe\">\n",
       "  <thead>\n",
       "    <tr style=\"text-align: right;\">\n",
       "      <th></th>\n",
       "      <th>sum_cost</th>\n",
       "      <th>sum_value</th>\n",
       "      <th>ROI</th>\n",
       "    </tr>\n",
       "    <tr>\n",
       "      <th>trafficSource</th>\n",
       "      <th></th>\n",
       "      <th></th>\n",
       "      <th></th>\n",
       "    </tr>\n",
       "  </thead>\n",
       "  <tbody>\n",
       "    <tr>\n",
       "      <th>google / cpc</th>\n",
       "      <td>25137.75</td>\n",
       "      <td>42.5575</td>\n",
       "      <td>169.297173</td>\n",
       "    </tr>\n",
       "    <tr>\n",
       "      <th>yandex / cpc</th>\n",
       "      <td>14025.00</td>\n",
       "      <td>21.3775</td>\n",
       "      <td>152.424242</td>\n",
       "    </tr>\n",
       "    <tr>\n",
       "      <th>facebook / video</th>\n",
       "      <td>28208.00</td>\n",
       "      <td>33.7350</td>\n",
       "      <td>119.593732</td>\n",
       "    </tr>\n",
       "    <tr>\n",
       "      <th>vk / display</th>\n",
       "      <td>4498.75</td>\n",
       "      <td>4.3450</td>\n",
       "      <td>96.582384</td>\n",
       "    </tr>\n",
       "    <tr>\n",
       "      <th>telegram / posts</th>\n",
       "      <td>35374.50</td>\n",
       "      <td>29.3300</td>\n",
       "      <td>82.912833</td>\n",
       "    </tr>\n",
       "  </tbody>\n",
       "</table>\n",
       "</div>"
      ],
      "text/plain": [
       "                  sum_cost  sum_value         ROI\n",
       "trafficSource                                    \n",
       "google / cpc      25137.75    42.5575  169.297173\n",
       "yandex / cpc      14025.00    21.3775  152.424242\n",
       "facebook / video  28208.00    33.7350  119.593732\n",
       "vk / display       4498.75     4.3450   96.582384\n",
       "telegram / posts  35374.50    29.3300   82.912833"
      ]
     },
     "execution_count": 132,
     "metadata": {},
     "output_type": "execute_result"
    }
   ],
   "source": [
    "df_add_by_chan"
   ]
  },
  {
   "cell_type": "code",
   "execution_count": 159,
   "id": "a6d40f86",
   "metadata": {},
   "outputs": [
    {
     "data": {
      "text/plain": [
       "Text(0, 0.5, 'ROI, %')"
      ]
     },
     "execution_count": 159,
     "metadata": {},
     "output_type": "execute_result"
    },
    {
     "data": {
      "image/png": "[encoded data removed]",
      "text/plain": [
       "<Figure size 1000x700 with 1 Axes>"
      ]
     },
     "metadata": {},
     "output_type": "display_data"
    }
   ],
   "source": [
    "figure, ax = plt.subplots(figsize = (10, 7))\n",
    "sns.barplot(data = df_add_by_chan\n",
    "            , x = df_add_by_chan.index\n",
    "            , y = 'ROI'\n",
    "            , ax=ax\n",
    "            , alpha=0.7\n",
    "            , palette = 'rocket'\n",
    "            , label = 'ROI')\n",
    "\n",
    "sns.lineplot(data = df_add_by_chan\n",
    "            , x =  df_add_by_chan.index\n",
    "            , y = 'sum_value', ax = ax\n",
    "            , color = 'black'\n",
    "            , label = 'Выручка')\n",
    "\n",
    "revenue = df_add_by_chan['sum_value'].apply(lambda x: round(x, 3))\n",
    "\n",
    "for index, value in enumerate(revenue):\n",
    "    ax.annotate(value, xy=(index-0.1, value+5), color='black', size=12) \n",
    "\n",
    "\n",
    "ax.set_title('ROI и выручка по каналам рекламы')\n",
    "ax.set_xlabel('Канал рекламы')\n",
    "ax.set_ylabel('ROI, %')"
   ]
  },
  {
   "cell_type": "markdown",
   "id": "ee03d552",
   "metadata": {},
   "source": [
    "- *Какой канал принёс больше всего денег?*\n",
    "\n",
    "Больше всего дохода принес google / cpc\n",
    "\n",
    "\n",
    "- *Какой канал самый эффективный?* \n",
    "\n",
    "Самый эффективный также google / cpc\n",
    "\n",
    "\n",
    "- *В пункте 1 и 2 речь об одном и том же канале или о разных? Если разные это разные каналы, укажите, почему так может быть?*\n",
    "\n",
    "В пункте один и два у нас один канал рекламы. Но могут быть и разные, так как ROI складывается, также из затрат на канал. Если бы выручка меньше или приближена к затратам, то канал был бы менее эффективным, и это было бы видно по ROI\n",
    "\n",
    "\n",
    "- *Что может произойти, если вложить все деньги в один самый эффективный канал?*\n",
    "\n",
    "Если мы так сделаем, то канал перестанет быть эффективным, затраты превысят выручку. \n",
    "Также если мы вложим все средства в самый эффективный канал, то потеряем выручку и аудиторию с других. А для продукта часто очень важно просто присутствовать в разных каналах, так как это поддерживает медийность. \n"
   ]
  }
 ],
 "metadata": {
  "kernelspec": {
   "display_name": "Python 3 (ipykernel)",
   "language": "python",
   "name": "python3"
  },
  "language_info": {
   "codemirror_mode": {
    "name": "ipython",
    "version": 3
   },
   "file_extension": ".py",
   "mimetype": "text/x-python",
   "name": "python",
   "nbconvert_exporter": "python",
   "pygments_lexer": "ipython3",
   "version": "3.9.13"
  }
 },
 "nbformat": 4,
 "nbformat_minor": 5
}
